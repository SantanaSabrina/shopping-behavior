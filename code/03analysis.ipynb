{
 "cells": [
  {
   "cell_type": "markdown",
   "metadata": {},
   "source": [
    "## Data Analysis I\n",
    "\n",
    "Lastly, we will answer the following questions using pandas methods: \n",
    "\n",
    "* What are the most popular colors by season?\n",
    "* What is the most popular clothing item by season?\n",
    "* What is the effect of promo-codes on the dollar-amount of purchases?\n",
    "* When do users leave a review?\n",
    "* Do states vary in the items they purchase in the Fall?\n",
    "\n",
    "Utilize the documentation provided in each code-block. When you are done with this section of the project, validate that your output matches the screenshot provided in the `docs/part3.md` file and answer the questions located underneath `Data Analysis II` in your own words."
   ]
  },
  {
   "cell_type": "code",
   "execution_count": 1,
   "metadata": {},
   "outputs": [],
   "source": [
    "import pandas as pd\n",
    "import numpy as np\n",
    "\n",
    "import matplotlib.pyplot as plt\n",
    "import seaborn as sns\n",
    "\n",
    "from scipy import stats"
   ]
  },
  {
   "cell_type": "code",
   "execution_count": 2,
   "metadata": {},
   "outputs": [
    {
     "data": {
      "text/plain": [
       "<bound method NDFrame.head of        Age  Gender Item Purchased  Purchase Amount (USD)      Location Size  \\\n",
       "0     31.0    Male       Leggings              24.231704        Nevada    M   \n",
       "1     38.0    Male     Sunglasses              36.545487        Oregon    S   \n",
       "2     26.0    Male       Leggings              23.595139        Nevada   XL   \n",
       "3     43.0    Male          Dress              34.079015    California    M   \n",
       "4     29.0    Male         Shorts              23.796439     Minnesota    M   \n",
       "...    ...     ...            ...                    ...           ...  ...   \n",
       "3153  39.0    Male  Running Shoes              55.636680        Kansas    L   \n",
       "3154  43.0  Female     Sunglasses              61.610602      Colorado    S   \n",
       "3155  37.0    Male        Pajamas              44.600556        Alaska    S   \n",
       "3156  39.0    Male         Hoodie              45.343778      Illinois    S   \n",
       "3157  21.0  Female         Gloves              49.439181  North Dakota    M   \n",
       "\n",
       "             Color  Season Review Rating   Shipping Type Promo Code Used  \\\n",
       "0      Terra cotta  Winter       Present        Standard              No   \n",
       "1        Aubergine  Summer       Missing        Standard              No   \n",
       "2            Brown  Winter       Missing        Standard              No   \n",
       "3      Terra cotta    Fall       Present        Standard              No   \n",
       "4         Lavender  Summer       Present         Express              No   \n",
       "...            ...     ...           ...             ...             ...   \n",
       "3153         White  Summer       Missing  2-Day Shipping             Yes   \n",
       "3154  Burnt orange    Fall       Missing  2-Day Shipping             Yes   \n",
       "3155     Aubergine  Winter       Present  2-Day Shipping             Yes   \n",
       "3156     Brick red    Fall       Missing  2-Day Shipping             Yes   \n",
       "3157     Aubergine  Winter       Present  2-Day Shipping             Yes   \n",
       "\n",
       "      Previous Purchases Payment Method  \n",
       "0                      0    Credit Card  \n",
       "1                      0    Credit Card  \n",
       "2                      3    Credit Card  \n",
       "3                      0    Credit Card  \n",
       "4                      0    Credit Card  \n",
       "...                  ...            ...  \n",
       "3153                  11          Venmo  \n",
       "3154                   7          Venmo  \n",
       "3155                  20          Venmo  \n",
       "3156                   3          Venmo  \n",
       "3157                   2          Venmo  \n",
       "\n",
       "[3158 rows x 13 columns]>"
      ]
     },
     "execution_count": 2,
     "metadata": {},
     "output_type": "execute_result"
    }
   ],
   "source": [
    "# TODO: load `data/processed/shopping_cleaned.csv` as a pandas dataframe\n",
    "\n",
    "df = pd.read_csv(\"../data/processed/shopping_cleaned.csv\")"
   ]
  },
  {
   "cell_type": "code",
   "execution_count": 3,
   "metadata": {},
   "outputs": [],
   "source": [
    "# TODO: Create a dataframe pivot table where \"Season\" is your column, \"Color\" is your index, and \"Location\" is your value (this value is arbitrary)\n",
    "# use the len function as the \"aggfunc\" parameter.\n",
    "# Save this pivot table to a new variable\n",
    "# Documentation: https://pandas.pydata.org/docs/reference/api/pandas.pivot_table.html\n",
    "\n",
    "pivot_table = pd.pivot_table(df, values='Location', index='Color', columns='Season', aggfunc=len, fill_value=0)"
   ]
  },
  {
   "cell_type": "code",
   "execution_count": 4,
   "metadata": {},
   "outputs": [
    {
     "name": "stdout",
     "output_type": "stream",
     "text": [
      "Season                Fall  Spring  Summer  Winter\n",
      "Color                                             \n",
      "Aubergine               83       2      13     111\n",
      "Baby blue               16      69      84      21\n",
      "Black                   84       5       9     124\n",
      "Brick red               88       7      12     110\n",
      "Brown                   97       5       3      89\n",
      "Burnt orange            93       4       5     112\n",
      "Fuchsia                  3      45      78      18\n",
      "Lavender                13      55     102       6\n",
      "Lemon yellow             9      47      98      13\n",
      "Mauve                   86       5       7      95\n",
      "Muted mustard yellow    84       8      13      87\n",
      "Pale peach               9      52      81      15\n",
      "Periwinkle               9      54      82       8\n",
      "Ruby Red                90       3       8     107\n",
      "Terra cotta             91       4      15     101\n",
      "Turquoise                7      49      74      16\n",
      "White                   10      63      81      11\n"
     ]
    }
   ],
   "source": [
    "# TODO: Display this pivot table\n",
    "\n",
    "print(pivot_table)"
   ]
  },
  {
   "cell_type": "code",
   "execution_count": 5,
   "metadata": {},
   "outputs": [
    {
     "name": "stdout",
     "output_type": "stream",
     "text": [
      "Color\n",
      "Brown                   97\n",
      "Burnt orange            93\n",
      "Terra cotta             91\n",
      "Ruby Red                90\n",
      "Brick red               88\n",
      "Mauve                   86\n",
      "Black                   84\n",
      "Muted mustard yellow    84\n",
      "Aubergine               83\n",
      "Baby blue               16\n",
      "Lavender                13\n",
      "White                   10\n",
      "Periwinkle               9\n",
      "Pale peach               9\n",
      "Lemon yellow             9\n",
      "Turquoise                7\n",
      "Fuchsia                  3\n",
      "Name: Fall, dtype: int64\n"
     ]
    }
   ],
   "source": [
    "# TODO: Select the \"Fall\" column from this pivot table and display the sort order in descending order\n",
    "# Documentation: https://pandas.pydata.org/docs/reference/api/pandas.DataFrame.sort_values.html\n",
    "\n",
    "fall_sort = pivot_table['Fall'].sort_values(ascending=False)\n",
    "print(fall_sort)"
   ]
  },
  {
   "cell_type": "code",
   "execution_count": 6,
   "metadata": {},
   "outputs": [
    {
     "name": "stdout",
     "output_type": "stream",
     "text": [
      "Color\n",
      "Black                   124\n",
      "Burnt orange            112\n",
      "Aubergine               111\n",
      "Brick red               110\n",
      "Ruby Red                107\n",
      "Terra cotta             101\n",
      "Mauve                    95\n",
      "Brown                    89\n",
      "Muted mustard yellow     87\n",
      "Baby blue                21\n",
      "Fuchsia                  18\n",
      "Turquoise                16\n",
      "Pale peach               15\n",
      "Lemon yellow             13\n",
      "White                    11\n",
      "Periwinkle                8\n",
      "Lavender                  6\n",
      "Name: Winter, dtype: int64\n"
     ]
    }
   ],
   "source": [
    "# TODO: Select the \"Winter\" column from this pivot table and display the sort order in descending order\n",
    "\n",
    "winter_sort = pivot_table['Winter'].sort_values(ascending=False)\n",
    "print(winter_sort)"
   ]
  },
  {
   "cell_type": "code",
   "execution_count": 7,
   "metadata": {},
   "outputs": [
    {
     "name": "stdout",
     "output_type": "stream",
     "text": [
      "Color\n",
      "Baby blue               69\n",
      "White                   63\n",
      "Lavender                55\n",
      "Periwinkle              54\n",
      "Pale peach              52\n",
      "Turquoise               49\n",
      "Lemon yellow            47\n",
      "Fuchsia                 45\n",
      "Muted mustard yellow     8\n",
      "Brick red                7\n",
      "Mauve                    5\n",
      "Brown                    5\n",
      "Black                    5\n",
      "Burnt orange             4\n",
      "Terra cotta              4\n",
      "Ruby Red                 3\n",
      "Aubergine                2\n",
      "Name: Spring, dtype: int64\n"
     ]
    }
   ],
   "source": [
    "# TODO: Select the \"Spring\" column from this pivot table and display the sort order in descending order\n",
    "\n",
    "spring_sort = pivot_table['Spring'].sort_values(ascending=False)\n",
    "print(spring_sort)"
   ]
  },
  {
   "cell_type": "code",
   "execution_count": 8,
   "metadata": {},
   "outputs": [
    {
     "name": "stdout",
     "output_type": "stream",
     "text": [
      "Color\n",
      "Lavender                102\n",
      "Lemon yellow             98\n",
      "Baby blue                84\n",
      "Periwinkle               82\n",
      "Pale peach               81\n",
      "White                    81\n",
      "Fuchsia                  78\n",
      "Turquoise                74\n",
      "Terra cotta              15\n",
      "Muted mustard yellow     13\n",
      "Aubergine                13\n",
      "Brick red                12\n",
      "Black                     9\n",
      "Ruby Red                  8\n",
      "Mauve                     7\n",
      "Burnt orange              5\n",
      "Brown                     3\n",
      "Name: Summer, dtype: int64\n"
     ]
    }
   ],
   "source": [
    "# TODO: Select the \"Summer\" column from this pivot table and display the sort order in descending order\n",
    "\n",
    "summer_sort = pivot_table['Summer'].sort_values(ascending=False)\n",
    "print(summer_sort)"
   ]
  },
  {
   "cell_type": "code",
   "execution_count": 60,
   "metadata": {},
   "outputs": [
    {
     "name": "stdout",
     "output_type": "stream",
     "text": [
      "Season\n",
      "Fall          Brown\n",
      "Spring    Baby blue\n",
      "Summer     Lavender\n",
      "Winter        Black\n",
      "dtype: object\n"
     ]
    }
   ],
   "source": [
    "# TODO: Using the \"idmax\" method, get the index with the maximum value for each column\n",
    "# Documentation: https://pandas.pydata.org/docs/reference/api/pandas.DataFrame.idxmax.html\n",
    "\n",
    "max_index_per_column = pivot_table.idxmax()\n",
    "print(max_index_per_column)"
   ]
  },
  {
   "cell_type": "code",
   "execution_count": 61,
   "metadata": {},
   "outputs": [
    {
     "name": "stdout",
     "output_type": "stream",
     "text": [
      "Season          Fall  Spring  Summer  Winter\n",
      "Item Purchased                              \n",
      "Backpack          72       0       0     113\n",
      "Belt              25       0       0       0\n",
      "Boots             51       0       0      83\n",
      "Dress             36      74     118       0\n",
      "Gloves            68       0       0     112\n",
      "Handbag           31      78     111       0\n",
      "Hoodie            58       0       0     105\n",
      "Jacket            47       0       0      87\n",
      "Jeans             46       0       0       0\n",
      "Leggings          58       0       0     118\n",
      "Pajamas           65       0       0     111\n",
      "Running Shoes     25      89     134       0\n",
      "Scarf             56       0       0     101\n",
      "Shorts            31      76     152       0\n",
      "Socks             71       0       0     101\n",
      "Sunglasses        43      80     135       0\n",
      "Sweater           72       0       0     113\n",
      "T-shirt           17      80     115       0\n"
     ]
    }
   ],
   "source": [
    "# TODO: Create a dataframe pivot table where \"Season\" is your column, \"Item Purchased\" is your index, and \"Location\" is your value (this value is arbitrary)\n",
    "# use the len function as the \"aggfunc\" parameter.\n",
    "# Save this pivot table to a new variable and display it\n",
    "\n",
    "new_pivot_table = pd.pivot_table(df, values='Location', index='Item Purchased', columns='Season', aggfunc=len, fill_value=0)\n",
    "print (new_pivot_table)"
   ]
  },
  {
   "cell_type": "code",
   "execution_count": 62,
   "metadata": {},
   "outputs": [
    {
     "name": "stdout",
     "output_type": "stream",
     "text": [
      "Season\n",
      "Fall           Backpack\n",
      "Spring    Running Shoes\n",
      "Summer           Shorts\n",
      "Winter         Leggings\n",
      "dtype: object\n"
     ]
    }
   ],
   "source": [
    "# TODO: Using the \"idmax\" method, get the index with the maximum value for each column on the pivot table containing clothing items & season\n",
    "# Documentation: https://pandas.pydata.org/docs/reference/api/pandas.DataFrame.idxmax.html\n",
    "\n",
    "max_index_per_column = new_pivot_table.idxmax()\n",
    "print(max_index_per_column)"
   ]
  },
  {
   "cell_type": "code",
   "execution_count": 12,
   "metadata": {},
   "outputs": [],
   "source": [
    "# TODO: Create two data-frames for promo-code users and non-promo-code users using boolean indexing\n",
    "# Save these two dataframes into seperate variables \n",
    "# Documentation: https://pandas.pydata.org/docs/user_guide/indexing.html#boolean-indexing\n",
    "# Hint: Users that have used a promo code have the value \"Yes\" in the column \"Promo Code Used\"\n",
    "\n",
    "promo_users = df[df['Promo Code Used'] == 'Yes']\n",
    "non_promo_users = df[df['Promo Code Used'] == 'No']"
   ]
  },
  {
   "cell_type": "code",
   "execution_count": 13,
   "metadata": {},
   "outputs": [
    {
     "data": {
      "text/plain": [
       "(1373, 13)"
      ]
     },
     "execution_count": 13,
     "metadata": {},
     "output_type": "execute_result"
    }
   ],
   "source": [
    "# TODO: Print the shape of the promo code users dataframe. This should be (1373, 13)\n",
    "\n",
    "promo_users.shape"
   ]
  },
  {
   "cell_type": "code",
   "execution_count": 14,
   "metadata": {},
   "outputs": [
    {
     "data": {
      "text/plain": [
       "50.06747998236351"
      ]
     },
     "execution_count": 14,
     "metadata": {},
     "output_type": "execute_result"
    }
   ],
   "source": [
    "# TODO: Print the average purchase size of promo code users dataframe. This should be 50.06747998236351\n",
    "\n",
    "promo_users['Purchase Amount (USD)'].mean()"
   ]
  },
  {
   "cell_type": "code",
   "execution_count": 15,
   "metadata": {},
   "outputs": [
    {
     "data": {
      "text/plain": [
       "(1785, 13)"
      ]
     },
     "execution_count": 15,
     "metadata": {},
     "output_type": "execute_result"
    }
   ],
   "source": [
    "# TODO: Print the shape of the non promo code users dataframe. This should be (1785, 13)\n",
    "\n",
    "non_promo_users.shape"
   ]
  },
  {
   "cell_type": "code",
   "execution_count": 16,
   "metadata": {},
   "outputs": [
    {
     "data": {
      "text/plain": [
       "30.155750765104113"
      ]
     },
     "execution_count": 16,
     "metadata": {},
     "output_type": "execute_result"
    }
   ],
   "source": [
    "# TODO: Print the average purchase size of non promo code users dataframe. This should be 30.155750765104113\n",
    "\n",
    "non_promo_users['Purchase Amount (USD)'].mean()"
   ]
  },
  {
   "cell_type": "markdown",
   "metadata": {},
   "source": [
    "Formulate a null hypothesis regarding the dollar amount spent between promo-code users & non-promo-code users"
   ]
  },
  {
   "cell_type": "markdown",
   "metadata": {},
   "source": [
    "Users who use promo codes spend more than those that don't use promo codes. "
   ]
  },
  {
   "cell_type": "markdown",
   "metadata": {},
   "source": [
    "Formulate an alternative hypothesis regarding the dollar amount spent between promo-code users & non-promo-code users"
   ]
  },
  {
   "cell_type": "markdown",
   "metadata": {},
   "source": [
    "Use of a promo code does not have an effect on the dollar amount spent by users. "
   ]
  },
  {
   "cell_type": "code",
   "execution_count": 23,
   "metadata": {},
   "outputs": [],
   "source": [
    "# TODO: Using the \"ttest_ind\" method from \"scipy.stats\", run a T-Test between the dollar amount spent of promo-code users and non promo-code users\n",
    "# The t-statistic you should observe is 93.2464714350831\n",
    "# Documentation: https://docs.scipy.org/doc/scipy/reference/generated/scipy.stats.ttest_ind.html\n",
    "\n",
    "t_statistic, p_value = stats.ttest_ind(promo_users['Purchase Amount (USD)'], non_promo_users['Purchase Amount (USD)'], equal_var=False)"
   ]
  },
  {
   "cell_type": "code",
   "execution_count": 64,
   "metadata": {},
   "outputs": [
    {
     "name": "stdout",
     "output_type": "stream",
     "text": [
      "<pandas.core.groupby.generic.DataFrameGroupBy object at 0x000001F14EB00DF0>\n"
     ]
    }
   ],
   "source": [
    "# TODO: Group your dataframe according to the \"Review Rating\" column. This should produce two groups for the values \"Missing\" & \"Present\"\n",
    "# Save this grouped dataframe into a new variable named \"g_review\"\n",
    "# Documentation: https://pandas.pydata.org/docs/reference/api/pandas.DataFrame.groupby.html\n",
    "\n",
    "g_review = df.groupby('Review Rating')"
   ]
  },
  {
   "cell_type": "code",
   "execution_count": 63,
   "metadata": {},
   "outputs": [
    {
     "name": "stdout",
     "output_type": "stream",
     "text": [
      "Keys: dict_keys(['Missing', 'Present'])\n"
     ]
    }
   ],
   "source": [
    "# TODO: Print out the keys of this dataframe for validation. This should output \"dict_keys(['Missing', 'Present'])\"\n",
    "# Documentation: https://pandas.pydata.org/docs/reference/api/pandas.DataFrame.keys.html\n",
    "\n",
    "keys = g_review.groups.keys()\n",
    "print(\"Keys:\", keys)"
   ]
  },
  {
   "cell_type": "code",
   "execution_count": 41,
   "metadata": {},
   "outputs": [
    {
     "data": {
      "text/html": [
       "<div>\n",
       "<style scoped>\n",
       "    .dataframe tbody tr th:only-of-type {\n",
       "        vertical-align: middle;\n",
       "    }\n",
       "\n",
       "    .dataframe tbody tr th {\n",
       "        vertical-align: top;\n",
       "    }\n",
       "\n",
       "    .dataframe thead th {\n",
       "        text-align: right;\n",
       "    }\n",
       "</style>\n",
       "<table border=\"1\" class=\"dataframe\">\n",
       "  <thead>\n",
       "    <tr style=\"text-align: right;\">\n",
       "      <th></th>\n",
       "      <th>Purchase Amount (USD)</th>\n",
       "      <th>Age</th>\n",
       "      <th>Previous Purchases</th>\n",
       "    </tr>\n",
       "    <tr>\n",
       "      <th>Review Rating</th>\n",
       "      <th></th>\n",
       "      <th></th>\n",
       "      <th></th>\n",
       "    </tr>\n",
       "  </thead>\n",
       "  <tbody>\n",
       "    <tr>\n",
       "      <th>Missing</th>\n",
       "      <td>38.923623</td>\n",
       "      <td>34.080198</td>\n",
       "      <td>5.344059</td>\n",
       "    </tr>\n",
       "    <tr>\n",
       "      <th>Present</th>\n",
       "      <td>38.615947</td>\n",
       "      <td>34.371705</td>\n",
       "      <td>6.778559</td>\n",
       "    </tr>\n",
       "  </tbody>\n",
       "</table>\n",
       "</div>"
      ],
      "text/plain": [
       "               Purchase Amount (USD)        Age  Previous Purchases\n",
       "Review Rating                                                      \n",
       "Missing                    38.923623  34.080198            5.344059\n",
       "Present                    38.615947  34.371705            6.778559"
      ]
     },
     "execution_count": 41,
     "metadata": {},
     "output_type": "execute_result"
    }
   ],
   "source": [
    "# TODO: calculate the average of the \"Purchase Amount (USD)\", \"Age\", and \"Previous Purchases\" columns in our grouped dataframe\n",
    "# output the values for display\n",
    "# Documentation: https://pandas.pydata.org/docs/reference/api/pandas.DataFrame.mean.html\n",
    "# Documentation: https://pandas.pydata.org/docs/getting_started/intro_tutorials/03_subset_data.html\n",
    "\n",
    "g_review[['Purchase Amount (USD)', 'Age', 'Previous Purchases']].mean()"
   ]
  },
  {
   "cell_type": "code",
   "execution_count": 114,
   "metadata": {},
   "outputs": [
    {
     "name": "stdout",
     "output_type": "stream",
     "text": [
      "       Age  Gender Item Purchased  Purchase Amount (USD)      Location Size  \\\n",
      "0     31.0    Male       Leggings              24.231704        Nevada    M   \n",
      "1     38.0    Male     Sunglasses              36.545487        Oregon    S   \n",
      "2     26.0    Male       Leggings              23.595139        Nevada   XL   \n",
      "3     43.0    Male          Dress              34.079015    California    M   \n",
      "4     29.0    Male         Shorts              23.796439     Minnesota    M   \n",
      "...    ...     ...            ...                    ...           ...  ...   \n",
      "3153  39.0    Male  Running Shoes              55.636680        Kansas    L   \n",
      "3154  43.0  Female     Sunglasses              61.610602      Colorado    S   \n",
      "3155  37.0    Male        Pajamas              44.600556        Alaska    S   \n",
      "3156  39.0    Male         Hoodie              45.343778      Illinois    S   \n",
      "3157  21.0  Female         Gloves              49.439181  North Dakota    M   \n",
      "\n",
      "             Color  Season Review Rating   Shipping Type Promo Code Used  \\\n",
      "0      Terra cotta  Winter       Present        Standard              No   \n",
      "1        Aubergine  Summer       Missing        Standard              No   \n",
      "2            Brown  Winter       Missing        Standard              No   \n",
      "3      Terra cotta    Fall       Present        Standard              No   \n",
      "4         Lavender  Summer       Present         Express              No   \n",
      "...            ...     ...           ...             ...             ...   \n",
      "3153         White  Summer       Missing  2-Day Shipping             Yes   \n",
      "3154  Burnt orange    Fall       Missing  2-Day Shipping             Yes   \n",
      "3155     Aubergine  Winter       Present  2-Day Shipping             Yes   \n",
      "3156     Brick red    Fall       Missing  2-Day Shipping             Yes   \n",
      "3157     Aubergine  Winter       Present  2-Day Shipping             Yes   \n",
      "\n",
      "      Previous Purchases Payment Method Prev Purchase Group  \n",
      "0                      0    Credit Card                 Low  \n",
      "1                      0    Credit Card                 Low  \n",
      "2                      3    Credit Card                High  \n",
      "3                      0    Credit Card                 Low  \n",
      "4                      0    Credit Card                 Low  \n",
      "...                  ...            ...                 ...  \n",
      "3153                  11          Venmo                High  \n",
      "3154                   7          Venmo                High  \n",
      "3155                  20          Venmo                High  \n",
      "3156                   3          Venmo                High  \n",
      "3157                   2          Venmo                High  \n",
      "\n",
      "[3158 rows x 14 columns]\n"
     ]
    }
   ],
   "source": [
    "# TODO: Create a new column called \"Prev Purchase Group\" on your original dataframe which seperates your dataframe into \n",
    "# two groups of shoppers based on their \"Previous Purchases\" column using the \"pd.cut\" method. \n",
    "# Ensure that you are only creating 2 \"bins\" and label these respective bins as [\"Low\", \"High\"]\n",
    "# Documentation: https://pandas.pydata.org/docs/reference/api/pandas.cut.html\n",
    "\n",
    "df['Prev Purchase Group'] = pd.cut(df['Previous Purchases'], bins=bins, labels=labels, right=False)\n",
    "bins = [float('-inf'), 2, float('inf')]\n",
    "labels = [\"Low\", \"High\"]"
   ]
  },
  {
   "cell_type": "code",
   "execution_count": 75,
   "metadata": {},
   "outputs": [
    {
     "name": "stdout",
     "output_type": "stream",
     "text": [
      "Previous Purchases\n",
      "0    515\n",
      "1    388\n",
      "Name: count, dtype: int64\n"
     ]
    }
   ],
   "source": [
    "# TODO: Using the \"value_counts\" function, count how many Missing & Present values are in the \"Low\" group\n",
    "# Display this value for analysis \n",
    "# Documentation: https://pandas.pydata.org/docs/reference/api/pandas.Series.value_counts.html\n",
    "# Hint: You will have to use Boolean Indexing\n",
    "\n",
    "count_low_group = df[df['Prev Purchase Group'] == 'Low']['Previous Purchases'].value_counts()\n",
    "print(count_low_group)"
   ]
  },
  {
   "cell_type": "code",
   "execution_count": 118,
   "metadata": {},
   "outputs": [
    {
     "name": "stdout",
     "output_type": "stream",
     "text": [
      "0\n",
      "0\n"
     ]
    }
   ],
   "source": [
    "# TODO: Using the \"value_counts\" function, count how many Missing & Present values are in the \"High\" group\n",
    "# Display this value for analysis \n",
    "# Documentation: https://pandas.pydata.org/docs/reference/api/pandas.Series.value_counts.html\n",
    "# Hint: You will have to use Boolean Indexing\n",
    "\n",
    "count_missing_high = df.loc[df['Prev Purchase Group'] == 'High']['Previous Purchases'].value_counts().get('Missing', 0)\n",
    "count_present_high = df.loc[df['Prev Purchase Group'] == 'High']['Previous Purchases'].value_counts().get('Present', 0)\n",
    "print(count_missing_high)\n",
    "print(count_present_high)"
   ]
  },
  {
   "cell_type": "markdown",
   "metadata": {},
   "source": [
    "## Data Analysis II\n",
    "\n",
    "In the next section, answer the primary analytical questions in your own words."
   ]
  },
  {
   "cell_type": "markdown",
   "metadata": {},
   "source": [
    "### Q1\n",
    "\n",
    "What are the top three colors for Fall & Winter?"
   ]
  },
  {
   "cell_type": "markdown",
   "metadata": {},
   "source": [
    "The top three colors for Fall are brown, burnt orange, and terra cotta. The top three colors for Winter are black, burnt orange, and aubergine."
   ]
  },
  {
   "cell_type": "markdown",
   "metadata": {},
   "source": [
    "### Q2\n",
    "\n",
    "What are the top three colors for Spring & Summer?"
   ]
  },
  {
   "cell_type": "markdown",
   "metadata": {},
   "source": [
    "The top three colors for Spring are baby blue, white, and lavender. The top three colors for Summer are lavender, lemon yellow and baby blue."
   ]
  },
  {
   "cell_type": "markdown",
   "metadata": {},
   "source": [
    "### Q3\n",
    "\n",
    "What is the most popular clothing item by season?"
   ]
  },
  {
   "cell_type": "markdown",
   "metadata": {},
   "source": [
    "The most popular clothing item for the Fall is backpack, the Spring is running shoes, Summer is shorts, and Winter is leggings."
   ]
  },
  {
   "cell_type": "markdown",
   "metadata": {},
   "source": [
    "### Q4\n",
    "\n",
    "Observing the p-value that we got when running our t-test between promo-code and non-promo-code users, what can we conclude regarding our null hypothesis?"
   ]
  },
  {
   "cell_type": "markdown",
   "metadata": {},
   "source": [
    "The p-value from the t-test is significant and therefore we can conclude that the null hypothesis was correct, users who use promo codes spend a lot more than those that don't use promo codes. "
   ]
  },
  {
   "cell_type": "markdown",
   "metadata": {},
   "source": [
    "### Q5\n",
    "\n",
    "Observe the `value_counts` output for the \"Review Rating\" column for both your \"High\" and \"Low\" groups. Proportionally speaking, which group is more likely to leave a review? Why might this be happening from the \"human\"-perspective? Rationalizations are ok at this point, even if they aren't backed up by data."
   ]
  },
  {
   "cell_type": "markdown",
   "metadata": {},
   "source": [
    "The group that is more likely to leave a review is the low group. There are more present reviews than missing reviews for thr low group. This tells me that the more someone purchaes, the less likely they are to leave reviews. "
   ]
  }
 ],
 "metadata": {
  "kernelspec": {
   "display_name": "phase1",
   "language": "python",
   "name": "python3"
  },
  "language_info": {
   "codemirror_mode": {
    "name": "ipython",
    "version": 3
   },
   "file_extension": ".py",
   "mimetype": "text/x-python",
   "name": "python",
   "nbconvert_exporter": "python",
   "pygments_lexer": "ipython3",
   "version": "3.9.18"
  }
 },
 "nbformat": 4,
 "nbformat_minor": 2
}
